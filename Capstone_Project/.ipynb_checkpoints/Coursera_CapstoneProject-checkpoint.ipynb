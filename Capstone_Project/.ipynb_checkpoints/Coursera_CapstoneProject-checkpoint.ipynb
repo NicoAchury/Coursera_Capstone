{
 "cells": [
  {
   "cell_type": "markdown",
   "metadata": {},
   "source": [
    "## Predicting the Severity of and Accident in Seattle - Coursera Capstone Project"
   ]
  },
  {
   "cell_type": "code",
   "execution_count": 1,
   "metadata": {},
   "outputs": [],
   "source": [
    "import pandas as pd\n",
    "import numpy as np\n",
    "from scipy import stats\n",
    "import matplotlib.pyplot as plt\n",
    "import seaborn as sn\n",
    "from sklearn.utils import resample \n",
    "from time import process_time"
   ]
  },
  {
   "cell_type": "code",
   "execution_count": 2,
   "metadata": {},
   "outputs": [
    {
     "name": "stderr",
     "output_type": "stream",
     "text": [
      "C:\\Users\\Nicolas Achury\\anaconda3\\lib\\site-packages\\IPython\\core\\interactiveshell.py:3063: DtypeWarning: Columns (33) have mixed types.Specify dtype option on import or set low_memory=False.\n",
      "  interactivity=interactivity, compiler=compiler, result=result)\n"
     ]
    }
   ],
   "source": [
    "#Load Information\n",
    "Collisions_df = pd.read_csv('Data-Collisions.csv')"
   ]
  },
  {
   "cell_type": "code",
   "execution_count": 3,
   "metadata": {},
   "outputs": [],
   "source": [
    "#Removing unnecesary data, note that SEVERITYCODE.1 has the same information than SEVERITYCODE\n",
    "\n",
    "Collisions_df.drop(['X','Y','OBJECTID','INCKEY','COLDETKEY','REPORTNO','INTKEY','LOCATION',\\\n",
    "                    'EXCEPTRSNCODE','EXCEPTRSNDESC', 'SEVERITYDESC','ST_COLDESC','SEGLANEKEY',\\\n",
    "                    'CROSSWALKKEY','ST_COLCODE','SDOTCOLNUM','PEDROWNOTGRNT','INCDATE','INCDTTM',\\\n",
    "                    'SDOT_COLCODE','SDOT_COLDESC','SEVERITYCODE.1'], axis=1, inplace=True)"
   ]
  },
  {
   "cell_type": "code",
   "execution_count": 4,
   "metadata": {},
   "outputs": [],
   "source": [
    "#Processing Inattention Data\n",
    "Collisions_df['INATTENTIONIND'] = Collisions_df['INATTENTIONIND'].fillna(0)\n",
    "Collisions_df.replace({'INATTENTIONIND':'Y'},1, inplace=True)\n",
    "#Processing Speeding Data\n",
    "Collisions_df['SPEEDING'] = Collisions_df['SPEEDING'].fillna(0)\n",
    "Collisions_df.replace({'SPEEDING':'Y'},1,inplace=True)\n",
    "#Processing UnderInfluence Data\n",
    "Collisions_df['UNDERINFL'] = Collisions_df['UNDERINFL'].replace(['N','Y','0','1'],[0,1,0,1])\n",
    "Collisions_df = Collisions_df[Collisions_df['UNDERINFL'].notnull()]\n",
    "Collisions_df.loc[:,'UNDERINFL'] = Collisions_df['UNDERINFL'].astype('int64') \n",
    "#Processing Hit Parked Car Data\n",
    "Collisions_df['HITPARKEDCAR'] = Collisions_df['HITPARKEDCAR'].replace(['Y','N'],[1,0])\n",
    "#Processing Status Data\n",
    "Collisions_df['STATUS'] = Collisions_df['STATUS'].replace(['Matched', 'Unmatched'],[1,0])"
   ]
  },
  {
   "cell_type": "code",
   "execution_count": 5,
   "metadata": {},
   "outputs": [],
   "source": [
    "#Remove NaN values\n",
    "Collisions_df = Collisions_df.dropna()\n",
    "#Remove Unmatched values\n",
    "Collisions_df = Collisions_df[Collisions_df['STATUS'] == 1]\n",
    "Collisions_df.drop(['STATUS'],axis=1,inplace=True)"
   ]
  },
  {
   "cell_type": "code",
   "execution_count": 6,
   "metadata": {},
   "outputs": [
    {
     "data": {
      "text/html": [
       "<div>\n",
       "<style scoped>\n",
       "    .dataframe tbody tr th:only-of-type {\n",
       "        vertical-align: middle;\n",
       "    }\n",
       "\n",
       "    .dataframe tbody tr th {\n",
       "        vertical-align: top;\n",
       "    }\n",
       "\n",
       "    .dataframe thead th {\n",
       "        text-align: right;\n",
       "    }\n",
       "</style>\n",
       "<table border=\"1\" class=\"dataframe\">\n",
       "  <thead>\n",
       "    <tr style=\"text-align: right;\">\n",
       "      <th></th>\n",
       "      <th>SEVERITYCODE</th>\n",
       "      <th>ADDRTYPE</th>\n",
       "      <th>COLLISIONTYPE</th>\n",
       "      <th>PERSONCOUNT</th>\n",
       "      <th>PEDCOUNT</th>\n",
       "      <th>PEDCYLCOUNT</th>\n",
       "      <th>VEHCOUNT</th>\n",
       "      <th>JUNCTIONTYPE</th>\n",
       "      <th>INATTENTIONIND</th>\n",
       "      <th>UNDERINFL</th>\n",
       "      <th>WEATHER</th>\n",
       "      <th>ROADCOND</th>\n",
       "      <th>LIGHTCOND</th>\n",
       "      <th>SPEEDING</th>\n",
       "      <th>HITPARKEDCAR</th>\n",
       "    </tr>\n",
       "  </thead>\n",
       "  <tbody>\n",
       "    <tr>\n",
       "      <th>0</th>\n",
       "      <td>2</td>\n",
       "      <td>Intersection</td>\n",
       "      <td>Angles</td>\n",
       "      <td>2</td>\n",
       "      <td>0</td>\n",
       "      <td>0</td>\n",
       "      <td>2</td>\n",
       "      <td>At Intersection (intersection related)</td>\n",
       "      <td>0</td>\n",
       "      <td>0</td>\n",
       "      <td>Overcast</td>\n",
       "      <td>Wet</td>\n",
       "      <td>Daylight</td>\n",
       "      <td>0</td>\n",
       "      <td>0</td>\n",
       "    </tr>\n",
       "    <tr>\n",
       "      <th>1</th>\n",
       "      <td>1</td>\n",
       "      <td>Block</td>\n",
       "      <td>Sideswipe</td>\n",
       "      <td>2</td>\n",
       "      <td>0</td>\n",
       "      <td>0</td>\n",
       "      <td>2</td>\n",
       "      <td>Mid-Block (not related to intersection)</td>\n",
       "      <td>0</td>\n",
       "      <td>0</td>\n",
       "      <td>Raining</td>\n",
       "      <td>Wet</td>\n",
       "      <td>Dark - Street Lights On</td>\n",
       "      <td>0</td>\n",
       "      <td>0</td>\n",
       "    </tr>\n",
       "    <tr>\n",
       "      <th>2</th>\n",
       "      <td>1</td>\n",
       "      <td>Block</td>\n",
       "      <td>Parked Car</td>\n",
       "      <td>4</td>\n",
       "      <td>0</td>\n",
       "      <td>0</td>\n",
       "      <td>3</td>\n",
       "      <td>Mid-Block (not related to intersection)</td>\n",
       "      <td>0</td>\n",
       "      <td>0</td>\n",
       "      <td>Overcast</td>\n",
       "      <td>Dry</td>\n",
       "      <td>Daylight</td>\n",
       "      <td>0</td>\n",
       "      <td>0</td>\n",
       "    </tr>\n",
       "    <tr>\n",
       "      <th>3</th>\n",
       "      <td>1</td>\n",
       "      <td>Block</td>\n",
       "      <td>Other</td>\n",
       "      <td>3</td>\n",
       "      <td>0</td>\n",
       "      <td>0</td>\n",
       "      <td>3</td>\n",
       "      <td>Mid-Block (not related to intersection)</td>\n",
       "      <td>0</td>\n",
       "      <td>0</td>\n",
       "      <td>Clear</td>\n",
       "      <td>Dry</td>\n",
       "      <td>Daylight</td>\n",
       "      <td>0</td>\n",
       "      <td>0</td>\n",
       "    </tr>\n",
       "    <tr>\n",
       "      <th>4</th>\n",
       "      <td>2</td>\n",
       "      <td>Intersection</td>\n",
       "      <td>Angles</td>\n",
       "      <td>2</td>\n",
       "      <td>0</td>\n",
       "      <td>0</td>\n",
       "      <td>2</td>\n",
       "      <td>At Intersection (intersection related)</td>\n",
       "      <td>0</td>\n",
       "      <td>0</td>\n",
       "      <td>Raining</td>\n",
       "      <td>Wet</td>\n",
       "      <td>Daylight</td>\n",
       "      <td>0</td>\n",
       "      <td>0</td>\n",
       "    </tr>\n",
       "    <tr>\n",
       "      <th>...</th>\n",
       "      <td>...</td>\n",
       "      <td>...</td>\n",
       "      <td>...</td>\n",
       "      <td>...</td>\n",
       "      <td>...</td>\n",
       "      <td>...</td>\n",
       "      <td>...</td>\n",
       "      <td>...</td>\n",
       "      <td>...</td>\n",
       "      <td>...</td>\n",
       "      <td>...</td>\n",
       "      <td>...</td>\n",
       "      <td>...</td>\n",
       "      <td>...</td>\n",
       "      <td>...</td>\n",
       "    </tr>\n",
       "    <tr>\n",
       "      <th>194668</th>\n",
       "      <td>2</td>\n",
       "      <td>Block</td>\n",
       "      <td>Head On</td>\n",
       "      <td>3</td>\n",
       "      <td>0</td>\n",
       "      <td>0</td>\n",
       "      <td>2</td>\n",
       "      <td>Mid-Block (not related to intersection)</td>\n",
       "      <td>0</td>\n",
       "      <td>0</td>\n",
       "      <td>Clear</td>\n",
       "      <td>Dry</td>\n",
       "      <td>Daylight</td>\n",
       "      <td>0</td>\n",
       "      <td>0</td>\n",
       "    </tr>\n",
       "    <tr>\n",
       "      <th>194669</th>\n",
       "      <td>1</td>\n",
       "      <td>Block</td>\n",
       "      <td>Rear Ended</td>\n",
       "      <td>2</td>\n",
       "      <td>0</td>\n",
       "      <td>0</td>\n",
       "      <td>2</td>\n",
       "      <td>Mid-Block (not related to intersection)</td>\n",
       "      <td>1</td>\n",
       "      <td>0</td>\n",
       "      <td>Raining</td>\n",
       "      <td>Wet</td>\n",
       "      <td>Daylight</td>\n",
       "      <td>0</td>\n",
       "      <td>0</td>\n",
       "    </tr>\n",
       "    <tr>\n",
       "      <th>194670</th>\n",
       "      <td>2</td>\n",
       "      <td>Intersection</td>\n",
       "      <td>Left Turn</td>\n",
       "      <td>3</td>\n",
       "      <td>0</td>\n",
       "      <td>0</td>\n",
       "      <td>2</td>\n",
       "      <td>At Intersection (intersection related)</td>\n",
       "      <td>0</td>\n",
       "      <td>0</td>\n",
       "      <td>Clear</td>\n",
       "      <td>Dry</td>\n",
       "      <td>Daylight</td>\n",
       "      <td>0</td>\n",
       "      <td>0</td>\n",
       "    </tr>\n",
       "    <tr>\n",
       "      <th>194671</th>\n",
       "      <td>2</td>\n",
       "      <td>Intersection</td>\n",
       "      <td>Cycles</td>\n",
       "      <td>2</td>\n",
       "      <td>0</td>\n",
       "      <td>1</td>\n",
       "      <td>1</td>\n",
       "      <td>At Intersection (intersection related)</td>\n",
       "      <td>0</td>\n",
       "      <td>0</td>\n",
       "      <td>Clear</td>\n",
       "      <td>Dry</td>\n",
       "      <td>Dusk</td>\n",
       "      <td>0</td>\n",
       "      <td>0</td>\n",
       "    </tr>\n",
       "    <tr>\n",
       "      <th>194672</th>\n",
       "      <td>1</td>\n",
       "      <td>Block</td>\n",
       "      <td>Rear Ended</td>\n",
       "      <td>2</td>\n",
       "      <td>0</td>\n",
       "      <td>0</td>\n",
       "      <td>2</td>\n",
       "      <td>Mid-Block (not related to intersection)</td>\n",
       "      <td>0</td>\n",
       "      <td>0</td>\n",
       "      <td>Clear</td>\n",
       "      <td>Wet</td>\n",
       "      <td>Daylight</td>\n",
       "      <td>0</td>\n",
       "      <td>0</td>\n",
       "    </tr>\n",
       "  </tbody>\n",
       "</table>\n",
       "<p>182894 rows × 15 columns</p>\n",
       "</div>"
      ],
      "text/plain": [
       "        SEVERITYCODE      ADDRTYPE COLLISIONTYPE  PERSONCOUNT  PEDCOUNT  \\\n",
       "0                  2  Intersection        Angles            2         0   \n",
       "1                  1         Block     Sideswipe            2         0   \n",
       "2                  1         Block    Parked Car            4         0   \n",
       "3                  1         Block         Other            3         0   \n",
       "4                  2  Intersection        Angles            2         0   \n",
       "...              ...           ...           ...          ...       ...   \n",
       "194668             2         Block       Head On            3         0   \n",
       "194669             1         Block    Rear Ended            2         0   \n",
       "194670             2  Intersection     Left Turn            3         0   \n",
       "194671             2  Intersection        Cycles            2         0   \n",
       "194672             1         Block    Rear Ended            2         0   \n",
       "\n",
       "        PEDCYLCOUNT  VEHCOUNT                             JUNCTIONTYPE  \\\n",
       "0                 0         2   At Intersection (intersection related)   \n",
       "1                 0         2  Mid-Block (not related to intersection)   \n",
       "2                 0         3  Mid-Block (not related to intersection)   \n",
       "3                 0         3  Mid-Block (not related to intersection)   \n",
       "4                 0         2   At Intersection (intersection related)   \n",
       "...             ...       ...                                      ...   \n",
       "194668            0         2  Mid-Block (not related to intersection)   \n",
       "194669            0         2  Mid-Block (not related to intersection)   \n",
       "194670            0         2   At Intersection (intersection related)   \n",
       "194671            1         1   At Intersection (intersection related)   \n",
       "194672            0         2  Mid-Block (not related to intersection)   \n",
       "\n",
       "        INATTENTIONIND  UNDERINFL   WEATHER ROADCOND                LIGHTCOND  \\\n",
       "0                    0          0  Overcast      Wet                 Daylight   \n",
       "1                    0          0   Raining      Wet  Dark - Street Lights On   \n",
       "2                    0          0  Overcast      Dry                 Daylight   \n",
       "3                    0          0     Clear      Dry                 Daylight   \n",
       "4                    0          0   Raining      Wet                 Daylight   \n",
       "...                ...        ...       ...      ...                      ...   \n",
       "194668               0          0     Clear      Dry                 Daylight   \n",
       "194669               1          0   Raining      Wet                 Daylight   \n",
       "194670               0          0     Clear      Dry                 Daylight   \n",
       "194671               0          0     Clear      Dry                     Dusk   \n",
       "194672               0          0     Clear      Wet                 Daylight   \n",
       "\n",
       "        SPEEDING  HITPARKEDCAR  \n",
       "0              0             0  \n",
       "1              0             0  \n",
       "2              0             0  \n",
       "3              0             0  \n",
       "4              0             0  \n",
       "...          ...           ...  \n",
       "194668         0             0  \n",
       "194669         0             0  \n",
       "194670         0             0  \n",
       "194671         0             0  \n",
       "194672         0             0  \n",
       "\n",
       "[182894 rows x 15 columns]"
      ]
     },
     "execution_count": 6,
     "metadata": {},
     "output_type": "execute_result"
    }
   ],
   "source": [
    "Collisions_df"
   ]
  },
  {
   "cell_type": "code",
   "execution_count": 7,
   "metadata": {},
   "outputs": [],
   "source": [
    "Collisions_DataModel = pd.get_dummies(Collisions_df, columns = ['LIGHTCOND', 'ROADCOND', 'WEATHER','JUNCTIONTYPE',\\\n",
    "                                                         'COLLISIONTYPE','ADDRTYPE'])"
   ]
  },
  {
   "cell_type": "code",
   "execution_count": 8,
   "metadata": {},
   "outputs": [
    {
     "name": "stdout",
     "output_type": "stream",
     "text": [
      "<class 'pandas.core.frame.DataFrame'>\n",
      "Int64Index: 182894 entries, 0 to 194672\n",
      "Data columns (total 58 columns):\n",
      " #   Column                                                          Non-Null Count   Dtype\n",
      "---  ------                                                          --------------   -----\n",
      " 0   SEVERITYCODE                                                    182894 non-null  int64\n",
      " 1   PERSONCOUNT                                                     182894 non-null  int64\n",
      " 2   PEDCOUNT                                                        182894 non-null  int64\n",
      " 3   PEDCYLCOUNT                                                     182894 non-null  int64\n",
      " 4   VEHCOUNT                                                        182894 non-null  int64\n",
      " 5   INATTENTIONIND                                                  182894 non-null  int64\n",
      " 6   UNDERINFL                                                       182894 non-null  int64\n",
      " 7   SPEEDING                                                        182894 non-null  int64\n",
      " 8   HITPARKEDCAR                                                    182894 non-null  int64\n",
      " 9   LIGHTCOND_Dark - No Street Lights                               182894 non-null  uint8\n",
      " 10  LIGHTCOND_Dark - Street Lights Off                              182894 non-null  uint8\n",
      " 11  LIGHTCOND_Dark - Street Lights On                               182894 non-null  uint8\n",
      " 12  LIGHTCOND_Dark - Unknown Lighting                               182894 non-null  uint8\n",
      " 13  LIGHTCOND_Dawn                                                  182894 non-null  uint8\n",
      " 14  LIGHTCOND_Daylight                                              182894 non-null  uint8\n",
      " 15  LIGHTCOND_Dusk                                                  182894 non-null  uint8\n",
      " 16  LIGHTCOND_Other                                                 182894 non-null  uint8\n",
      " 17  LIGHTCOND_Unknown                                               182894 non-null  uint8\n",
      " 18  ROADCOND_Dry                                                    182894 non-null  uint8\n",
      " 19  ROADCOND_Ice                                                    182894 non-null  uint8\n",
      " 20  ROADCOND_Oil                                                    182894 non-null  uint8\n",
      " 21  ROADCOND_Other                                                  182894 non-null  uint8\n",
      " 22  ROADCOND_Sand/Mud/Dirt                                          182894 non-null  uint8\n",
      " 23  ROADCOND_Snow/Slush                                             182894 non-null  uint8\n",
      " 24  ROADCOND_Standing Water                                         182894 non-null  uint8\n",
      " 25  ROADCOND_Unknown                                                182894 non-null  uint8\n",
      " 26  ROADCOND_Wet                                                    182894 non-null  uint8\n",
      " 27  WEATHER_Blowing Sand/Dirt                                       182894 non-null  uint8\n",
      " 28  WEATHER_Clear                                                   182894 non-null  uint8\n",
      " 29  WEATHER_Fog/Smog/Smoke                                          182894 non-null  uint8\n",
      " 30  WEATHER_Other                                                   182894 non-null  uint8\n",
      " 31  WEATHER_Overcast                                                182894 non-null  uint8\n",
      " 32  WEATHER_Partly Cloudy                                           182894 non-null  uint8\n",
      " 33  WEATHER_Raining                                                 182894 non-null  uint8\n",
      " 34  WEATHER_Severe Crosswind                                        182894 non-null  uint8\n",
      " 35  WEATHER_Sleet/Hail/Freezing Rain                                182894 non-null  uint8\n",
      " 36  WEATHER_Snowing                                                 182894 non-null  uint8\n",
      " 37  WEATHER_Unknown                                                 182894 non-null  uint8\n",
      " 38  JUNCTIONTYPE_At Intersection (but not related to intersection)  182894 non-null  uint8\n",
      " 39  JUNCTIONTYPE_At Intersection (intersection related)             182894 non-null  uint8\n",
      " 40  JUNCTIONTYPE_Driveway Junction                                  182894 non-null  uint8\n",
      " 41  JUNCTIONTYPE_Mid-Block (but intersection related)               182894 non-null  uint8\n",
      " 42  JUNCTIONTYPE_Mid-Block (not related to intersection)            182894 non-null  uint8\n",
      " 43  JUNCTIONTYPE_Ramp Junction                                      182894 non-null  uint8\n",
      " 44  JUNCTIONTYPE_Unknown                                            182894 non-null  uint8\n",
      " 45  COLLISIONTYPE_Angles                                            182894 non-null  uint8\n",
      " 46  COLLISIONTYPE_Cycles                                            182894 non-null  uint8\n",
      " 47  COLLISIONTYPE_Head On                                           182894 non-null  uint8\n",
      " 48  COLLISIONTYPE_Left Turn                                         182894 non-null  uint8\n",
      " 49  COLLISIONTYPE_Other                                             182894 non-null  uint8\n",
      " 50  COLLISIONTYPE_Parked Car                                        182894 non-null  uint8\n",
      " 51  COLLISIONTYPE_Pedestrian                                        182894 non-null  uint8\n",
      " 52  COLLISIONTYPE_Rear Ended                                        182894 non-null  uint8\n",
      " 53  COLLISIONTYPE_Right Turn                                        182894 non-null  uint8\n",
      " 54  COLLISIONTYPE_Sideswipe                                         182894 non-null  uint8\n",
      " 55  ADDRTYPE_Alley                                                  182894 non-null  uint8\n",
      " 56  ADDRTYPE_Block                                                  182894 non-null  uint8\n",
      " 57  ADDRTYPE_Intersection                                           182894 non-null  uint8\n",
      "dtypes: int64(9), uint8(49)\n",
      "memory usage: 22.5 MB\n"
     ]
    }
   ],
   "source": [
    "Collisions_DataModel.info()"
   ]
  },
  {
   "cell_type": "code",
   "execution_count": 9,
   "metadata": {},
   "outputs": [
    {
     "data": {
      "image/png": "[encoded data removed]",
      "text/plain": [
       "<Figure size 432x288 with 2 Axes>"
      ]
     },
     "metadata": {
      "needs_background": "light"
     },
     "output_type": "display_data"
    }
   ],
   "source": [
    "Collisions_corre = Collisions_df[['SEVERITYCODE','PERSONCOUNT','PEDCOUNT','PEDCYLCOUNT','VEHCOUNT']].corr()\n",
    "sn.heatmap(Collisions_corre, annot=True)\n",
    "plt.title('Regression Matrix for Independent and Dependent Variables', pad=20)\n",
    "plt.show()"
   ]
  },
  {
   "cell_type": "markdown",
   "metadata": {},
   "source": [
    "It could be inferred that Vehcount does not have a significant impact on the dependent variable Severity Code. As the correlation among the other variables tends to be low, one can say variables do not show collinearity issues (are truly independent)."
   ]
  },
  {
   "cell_type": "code",
   "execution_count": 10,
   "metadata": {},
   "outputs": [],
   "source": [
    "DataAnova = Collisions_df.drop(['PERSONCOUNT','PEDCOUNT','PEDCYLCOUNT','VEHCOUNT'],axis=1)"
   ]
  },
  {
   "cell_type": "code",
   "execution_count": 11,
   "metadata": {},
   "outputs": [
    {
     "name": "stdout",
     "output_type": "stream",
     "text": [
      "ANOVA Result for ADDRTYPE. F=  3530.7072025718653 P=  0.0\n"
     ]
    }
   ],
   "source": [
    "GroupTest1 = DataAnova[['ADDRTYPE','SEVERITYCODE']].groupby(['ADDRTYPE'])\n",
    "f_val, p_val = stats.f_oneway(GroupTest1.get_group('Intersection')['SEVERITYCODE'],\\\n",
    "                              GroupTest1.get_group('Block')['SEVERITYCODE'],\\\n",
    "                              GroupTest1.get_group('Alley')['SEVERITYCODE'])\n",
    "print('ANOVA Result for ADDRTYPE. F= ', f_val, 'P= ',p_val)"
   ]
  },
  {
   "cell_type": "code",
   "execution_count": 12,
   "metadata": {},
   "outputs": [
    {
     "name": "stdout",
     "output_type": "stream",
     "text": [
      "ANOVA Result for COLLISIONTYPE. F=  5369.063855492085 P=  0.0\n"
     ]
    }
   ],
   "source": [
    "GroupTest2 = DataAnova[['COLLISIONTYPE','SEVERITYCODE']].groupby(['COLLISIONTYPE'])\n",
    "f_val, p_val = stats.f_oneway(GroupTest2.get_group('Angles')['SEVERITYCODE'],\\\n",
    "                              GroupTest2.get_group('Sideswipe')['SEVERITYCODE'],\\\n",
    "                              GroupTest2.get_group('Parked Car')['SEVERITYCODE'],\\\n",
    "                              GroupTest2.get_group('Other')['SEVERITYCODE'],\\\n",
    "                              GroupTest2.get_group('Cycles')['SEVERITYCODE'],\\\n",
    "                              GroupTest2.get_group('Head On')['SEVERITYCODE'],\\\n",
    "                              GroupTest2.get_group('Left Turn')['SEVERITYCODE'],\\\n",
    "                              GroupTest2.get_group('Rear Ended')['SEVERITYCODE'],\n",
    "                              GroupTest2.get_group('Pedestrian')['SEVERITYCODE'],\\\n",
    "                              GroupTest2.get_group('Right Turn')['SEVERITYCODE'])\n",
    "print('ANOVA Result for COLLISIONTYPE. F= ', f_val, 'P= ',p_val)"
   ]
  },
  {
   "cell_type": "code",
   "execution_count": 13,
   "metadata": {},
   "outputs": [
    {
     "name": "stdout",
     "output_type": "stream",
     "text": [
      "ANOVA Result for JUNCTIONTYPE. F=  1403.6201084458635 P=  0.0\n"
     ]
    }
   ],
   "source": [
    "GroupTest3 = DataAnova[['JUNCTIONTYPE','SEVERITYCODE']].groupby(['JUNCTIONTYPE'])\n",
    "f_val, p_val = stats.f_oneway(GroupTest3.get_group('At Intersection (intersection related)')['SEVERITYCODE'],\\\n",
    "                              GroupTest3.get_group('Mid-Block (not related to intersection)')['SEVERITYCODE'],\\\n",
    "                              GroupTest3.get_group('Driveway Junction')['SEVERITYCODE'],\\\n",
    "                              GroupTest3.get_group('Mid-Block (but intersection related)')['SEVERITYCODE'],\\\n",
    "                              GroupTest3.get_group('At Intersection (but not related to intersection)')['SEVERITYCODE'],\\\n",
    "                              GroupTest3.get_group('Ramp Junction')['SEVERITYCODE'],\\\n",
    "                              GroupTest3.get_group('Unknown')['SEVERITYCODE'])\n",
    "print('ANOVA Result for JUNCTIONTYPE. F= ', f_val, 'P= ',p_val)                       "
   ]
  },
  {
   "cell_type": "code",
   "execution_count": 14,
   "metadata": {},
   "outputs": [
    {
     "name": "stdout",
     "output_type": "stream",
     "text": [
      "ANOVA Result for WEATHER. F=  374.03872251208475 P=  0.0\n"
     ]
    }
   ],
   "source": [
    "GroupTest4 = DataAnova[['WEATHER','SEVERITYCODE']].groupby(['WEATHER'])\n",
    "f_val,p_val = stats.f_oneway(GroupTest4.get_group('Overcast')['SEVERITYCODE'],\\\n",
    "                                 GroupTest4.get_group('Raining')['SEVERITYCODE'],\\\n",
    "                                 GroupTest4.get_group('Clear')['SEVERITYCODE'],\\\n",
    "                                 GroupTest4.get_group('Unknown')['SEVERITYCODE'],\\\n",
    "                                 GroupTest4.get_group('Other')['SEVERITYCODE'],\\\n",
    "                                 GroupTest4.get_group('Snowing')['SEVERITYCODE'],\\\n",
    "                                 GroupTest4.get_group('Fog/Smog/Smoke')['SEVERITYCODE'],\\\n",
    "                                 GroupTest4.get_group('Sleet/Hail/Freezing Rain')['SEVERITYCODE'],\\\n",
    "                                 GroupTest4.get_group('Blowing Sand/Dirt')['SEVERITYCODE'],\\\n",
    "                                 GroupTest4.get_group('Severe Crosswind')['SEVERITYCODE'],\\\n",
    "                                 GroupTest4.get_group('Partly Cloudy')['SEVERITYCODE'])\n",
    "print('ANOVA Result for WEATHER. F= ', f_val, 'P= ',p_val) "
   ]
  },
  {
   "cell_type": "code",
   "execution_count": 15,
   "metadata": {},
   "outputs": [
    {
     "name": "stdout",
     "output_type": "stream",
     "text": [
      "ANOVA Result for ROADCOND. F=  476.04934918417547 P=  0.0\n"
     ]
    }
   ],
   "source": [
    "GroupTest5 = DataAnova[['ROADCOND','SEVERITYCODE']].groupby(['ROADCOND'])\n",
    "f_val, p_val = stats.f_oneway(GroupTest5.get_group('Wet')['SEVERITYCODE'],\\\n",
    "                              GroupTest5.get_group('Dry')['SEVERITYCODE'],\\\n",
    "                              GroupTest5.get_group('Unknown')['SEVERITYCODE'],\\\n",
    "                              GroupTest5.get_group('Snow/Slush')['SEVERITYCODE'],\\\n",
    "                              GroupTest5.get_group('Ice')['SEVERITYCODE'],\\\n",
    "                              GroupTest5.get_group('Other')['SEVERITYCODE'],\\\n",
    "                              GroupTest5.get_group('Sand/Mud/Dirt')['SEVERITYCODE'],\\\n",
    "                              GroupTest5.get_group('Standing Water')['SEVERITYCODE'],\\\n",
    "                              GroupTest5.get_group('Oil')['SEVERITYCODE'])\n",
    "print('ANOVA Result for ROADCOND. F= ', f_val, 'P= ',p_val) "
   ]
  },
  {
   "cell_type": "code",
   "execution_count": 16,
   "metadata": {},
   "outputs": [
    {
     "name": "stdout",
     "output_type": "stream",
     "text": [
      "ANOVA Result for LIGHTCOND. F=  463.6488043553831 P=  0.0\n"
     ]
    }
   ],
   "source": [
    "GroupTest6 = DataAnova[['LIGHTCOND','SEVERITYCODE']].groupby(['LIGHTCOND'])\n",
    "f_val, p_val = stats.f_oneway(GroupTest6.get_group('Daylight')['SEVERITYCODE'],\\\n",
    "                              GroupTest6.get_group('Dark - Street Lights On')['SEVERITYCODE'],\\\n",
    "                              GroupTest6.get_group('Dark - No Street Lights')['SEVERITYCODE'],\\\n",
    "                              GroupTest6.get_group('Unknown')['SEVERITYCODE'],\\\n",
    "                              GroupTest6.get_group('Dusk')['SEVERITYCODE'],\\\n",
    "                              GroupTest6.get_group('Dawn')['SEVERITYCODE'],\\\n",
    "                              GroupTest6.get_group('Dark - Street Lights Off')['SEVERITYCODE'],\\\n",
    "                              GroupTest6.get_group('Other')['SEVERITYCODE'],\\\n",
    "                              GroupTest6.get_group('Dark - Unknown Lighting')['SEVERITYCODE'])\n",
    "print('ANOVA Result for LIGHTCOND. F= ', f_val, 'P= ',p_val) "
   ]
  },
  {
   "cell_type": "code",
   "execution_count": 17,
   "metadata": {},
   "outputs": [
    {
     "name": "stdout",
     "output_type": "stream",
     "text": [
      "ANOVA Result for SPEEDING. F=  223.74371113657483 P=  1.4783415342348403e-50\n"
     ]
    }
   ],
   "source": [
    "GroupTest7 = DataAnova[['SPEEDING','SEVERITYCODE']].groupby(['SPEEDING'])\n",
    "f_val, p_val = stats.f_oneway(GroupTest7.get_group(0)['SEVERITYCODE'],\\\n",
    "                              GroupTest7.get_group(1)['SEVERITYCODE'])\n",
    "print('ANOVA Result for SPEEDING. F= ', f_val, 'P= ',p_val) "
   ]
  },
  {
   "cell_type": "code",
   "execution_count": 18,
   "metadata": {},
   "outputs": [
    {
     "name": "stdout",
     "output_type": "stream",
     "text": [
      "ANOVA Result for SPEEDING. F=  1577.6562406158005 P=  0.0\n"
     ]
    }
   ],
   "source": [
    "GroupTest8 = DataAnova[['HITPARKEDCAR','SEVERITYCODE']].groupby(['HITPARKEDCAR'])\n",
    "f_val, p_val = stats.f_oneway(GroupTest8.get_group(0)['SEVERITYCODE'],\\\n",
    "                              GroupTest8.get_group(1)['SEVERITYCODE'])\n",
    "print('ANOVA Result for SPEEDING. F= ', f_val, 'P= ',p_val) "
   ]
  },
  {
   "cell_type": "code",
   "execution_count": 19,
   "metadata": {},
   "outputs": [
    {
     "data": {
      "text/plain": [
       "1    126269\n",
       "2     56625\n",
       "Name: SEVERITYCODE, dtype: int64"
      ]
     },
     "execution_count": 19,
     "metadata": {},
     "output_type": "execute_result"
    }
   ],
   "source": [
    "#The data provided is unbalanced. The number of injuries (56625) is way lower than the number of prop damages (126269)\n",
    "Collisions_DataModel['SEVERITYCODE'].value_counts()"
   ]
  },
  {
   "cell_type": "code",
   "execution_count": 20,
   "metadata": {},
   "outputs": [],
   "source": [
    "#Downsampling the number of injuries (Severitycode=1)\n",
    "df_majority=Collisions_DataModel[Collisions_DataModel['SEVERITYCODE']==1]\n",
    "df_minority=Collisions_DataModel[Collisions_DataModel['SEVERITYCODE']==2]\n",
    "df_majority_downsampled = resample(df_majority,replace=False,n_samples=56625,random_state=123)\n",
    "Collisions_DataModel = pd.concat([df_minority, df_majority_downsampled])\n",
    "Collisions_DataModel = Collisions_DataModel.reset_index(drop=True)"
   ]
  },
  {
   "cell_type": "code",
   "execution_count": 21,
   "metadata": {},
   "outputs": [],
   "source": [
    "#Preprocessing\n",
    "from sklearn import preprocessing\n",
    "X = np.asarray(Collisions_DataModel.drop(['SEVERITYCODE'],axis=1))\n",
    "y = np.asarray(Collisions_DataModel['SEVERITYCODE'])\n",
    "X = preprocessing.StandardScaler().fit(X).transform(X)"
   ]
  },
  {
   "cell_type": "code",
   "execution_count": 22,
   "metadata": {},
   "outputs": [
    {
     "name": "stdout",
     "output_type": "stream",
     "text": [
      "Train set: (90600, 57) (90600,)\n",
      "Test set: (22650, 57) (22650,)\n"
     ]
    }
   ],
   "source": [
    "#Defining test and train datasets\n",
    "from sklearn.model_selection import train_test_split\n",
    "X_train, X_test, y_train, y_test = train_test_split(X,y,test_size=0.2,random_state=123)\n",
    "print ('Train set:', X_train.shape,  y_train.shape)\n",
    "print ('Test set:', X_test.shape,  y_test.shape)"
   ]
  },
  {
   "cell_type": "code",
   "execution_count": 23,
   "metadata": {},
   "outputs": [],
   "source": [
    "from sklearn.metrics import jaccard_score\n",
    "from sklearn.metrics import f1_score\n",
    "from sklearn.metrics import log_loss\n",
    "from sklearn.metrics import accuracy_score"
   ]
  },
  {
   "cell_type": "code",
   "execution_count": 24,
   "metadata": {},
   "outputs": [
    {
     "name": "stdout",
     "output_type": "stream",
     "text": [
      "Elapsed time for the model: 1.390625  seconds\n",
      "Accuracy Score of Logistic Regression:  0.7007064017660044\n",
      "F1 Score of Logistic Regression:  0.6977476828195344\n",
      "Jaccard Score Linear Regression:  0.5004421518054532\n",
      "Log Loss Linear Regression:  0.5464830678304659\n"
     ]
    }
   ],
   "source": [
    "#Logistic Regression Model\n",
    "from sklearn.linear_model import LogisticRegression\n",
    "t_start = process_time()\n",
    "LR = LogisticRegression(C=0.01).fit(X_train,y_train)\n",
    "yhatLR = LR.predict(X_test)\n",
    "yhatLRProba = LR.predict_proba(X_test)\n",
    "t_stop = process_time()\n",
    "print(\"Elapsed time for the model:\", t_stop-t_start,' seconds') \n",
    "print('Accuracy Score of Logistic Regression: ',accuracy_score(y_test,yhatLR))\n",
    "print('F1 Score of Logistic Regression: ',f1_score(y_test,yhatLR,average='weighted'))\n",
    "print('Jaccard Score Linear Regression: ', jaccard_score(y_test,yhatLR))\n",
    "print('Log Loss Linear Regression: ', log_loss(y_test,yhatLRProba))"
   ]
  },
  {
   "cell_type": "code",
   "execution_count": 25,
   "metadata": {},
   "outputs": [
    {
     "name": "stdout",
     "output_type": "stream",
     "text": [
      "Elapsed time for the model: 1.0625  seconds\n",
      "Accuracy Score of Decision Tree:  0.7032671081677704\n",
      "F1 Score of Decision Tree:  0.6987375036184176\n",
      "Jaccard Score Decision Tree:  0.49363369245837413\n"
     ]
    }
   ],
   "source": [
    "#Decision Tree\n",
    "from sklearn.tree import DecisionTreeClassifier\n",
    "t_start = process_time()\n",
    "TreeModel = DecisionTreeClassifier(criterion='entropy',max_depth=11)\n",
    "TreeModel.fit(X_train,y_train)\n",
    "yhatDT = TreeModel.predict(X_test)\n",
    "t_stop = process_time()\n",
    "print(\"Elapsed time for the model:\", t_stop-t_start,' seconds')\n",
    "print('Accuracy Score of Decision Tree: ',accuracy_score(y_test,yhatDT))\n",
    "print('F1 Score of Decision Tree: ',f1_score(y_test,yhatDT,average='weighted'))\n",
    "print('Jaccard Score Decision Tree: ', jaccard_score(y_test,yhatDT))"
   ]
  },
  {
   "cell_type": "code",
   "execution_count": 26,
   "metadata": {},
   "outputs": [
    {
     "name": "stdout",
     "output_type": "stream",
     "text": [
      "Elapsed time for the model: 187.8125  seconds\n",
      "Accuracy Score of KNN:  0.6867549668874172\n",
      "F1 Score of KNN:  0.6860304396147238\n",
      "Jaccard Score of KNN:  0.503984899328859\n"
     ]
    }
   ],
   "source": [
    "#K Nearest Neighbour\n",
    "from sklearn.neighbors import KNeighborsClassifier\n",
    "t_start = process_time()\n",
    "k=11\n",
    "KNN = KNeighborsClassifier(n_neighbors=k).fit(X_train,y_train)\n",
    "yhatKNN = KNN.predict(X_test)\n",
    "t_stop = process_time()\n",
    "print(\"Elapsed time for the model:\", t_stop-t_start,' seconds')\n",
    "print('Accuracy Score of KNN: ',accuracy_score(y_test,yhatKNN))\n",
    "print('F1 Score of KNN: ',f1_score(y_test,yhatKNN,average='weighted'))\n",
    "print('Jaccard Score of KNN: ', jaccard_score(y_test,yhatKNN))"
   ]
  },
  {
   "cell_type": "code",
   "execution_count": 27,
   "metadata": {},
   "outputs": [],
   "source": [
    "#Support Vector Machine SVM\n",
    "#from sklearn import svm\n",
    "#SVM_Model = svm.SVC()\n",
    "#SVM_Model.fit(X_train,y_train)\n",
    "#yhatSVM = SVM_Model.predict(X_test)\n",
    "#print('Accuracy Score of SVM: ',accuracy_score(y_test,yhatSVM))\n",
    "#print('F1 Score of SVM: ',f1_score(y_test,yhatSVM,average='weighted'))\n",
    "#print('Jaccard Score of SVM: ', jaccard_score(y_test,yhatSVM))"
   ]
  },
  {
   "cell_type": "markdown",
   "metadata": {},
   "source": [
    "Computation times for the SVM model are significantly high. No results were obtained."
   ]
  },
  {
   "cell_type": "code",
   "execution_count": null,
   "metadata": {},
   "outputs": [],
   "source": []
  }
 ],
 "metadata": {
  "kernelspec": {
   "display_name": "Python 3",
   "language": "python",
   "name": "python3"
  },
  "language_info": {
   "codemirror_mode": {
    "name": "ipython",
    "version": 3
   },
   "file_extension": ".py",
   "mimetype": "text/x-python",
   "name": "python",
   "nbconvert_exporter": "python",
   "pygments_lexer": "ipython3",
   "version": "3.7.6"
  }
 },
 "nbformat": 4,
 "nbformat_minor": 4
}
